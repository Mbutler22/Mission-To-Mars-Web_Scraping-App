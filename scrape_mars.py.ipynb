{
 "cells": [
  {
   "cell_type": "code",
   "execution_count": 1,
   "source": [
    "import pandas as pd\r\n",
    "from splinter import Browser\r\n",
    "from bs4 import BeautifulSoup as soup\r\n",
    "from webdriver_manager.chrome import ChromeDriverManager\r\n",
    "import datetime as dt\r\n"
   ],
   "outputs": [],
   "metadata": {}
  },
  {
   "cell_type": "code",
   "execution_count": 2,
   "source": [
    "def scrape_all():\r\n",
    "    #initiate a headless driver to go right to page\r\n",
    "    executable_path = {\"executable_path\": ChromeDriverManager().install()}\r\n",
    "    browser = Browser(\"chrome\", **executable_path, headless=False)\r\n",
    "    \r\n",
    "    news_title, news_paragraph= mars_news(browser)\r\n",
    "    \r\n",
    "    #run all scraping and store results in dictionary\r\n",
    "    data = {\"news_title\": news_title, \r\n",
    "            \"news_paragraph\": news_paragraph, \r\n",
    "            \"featured_image\": featured_image(browser),\r\n",
    "            \"mars_facts\": mars_facts(),\r\n",
    "            \"hemispheres\": hemispheres(browser),\r\n",
    "            \"last_modified\":  dt.datetime.now()}\r\n",
    "    \r\n",
    "    browser.quit()\r\n",
    "    return data"
   ],
   "outputs": [],
   "metadata": {}
  },
  {
   "cell_type": "code",
   "execution_count": 3,
   "source": [
    "def mars_news(browser):\r\n",
    "    news_url = 'https://redplanetscience.com/'\r\n",
    "    browser.visit(news_url)\r\n",
    "    \r\n",
    "    #allows browser to wait until loading\r\n",
    "    browser.is_element_present_by_css(\"div.list_text\", wait_time=1)\r\n",
    "    \r\n",
    "    # Convert the browser html to a soup object and then quit the browser\r\n",
    "    html = browser.html\r\n",
    "    news_soup = soup(html, 'html.parser')\r\n",
    "    \r\n",
    "    try: \r\n",
    "        slide_elem = news_soup.select_one('div.list_text')\r\n",
    "        news_title = slide_elem.find('div', class_='content_title').get_text()\r\n",
    "        news_paragraph = slide_elem.find('div', class_='article_teaser_body').get_text()\r\n",
    "    except AttributeError:\r\n",
    "        return None, None\r\n",
    "    return news_title, news_paragraph"
   ],
   "outputs": [],
   "metadata": {}
  },
  {
   "cell_type": "code",
   "execution_count": 8,
   "source": [
    "def featured_image(browser):\r\n",
    "    jpl_url = 'https://spaceimages-mars.com/'\r\n",
    "    browser.visit(jpl_url)\r\n",
    "    \r\n",
    "    \r\n",
    "    full_image_elem = browser.find_by_tag(\"button\")[1]\r\n",
    "    full_image_elem.click()\r\n",
    "    \r\n",
    "    html = browser.html\r\n",
    "    img_soup = soup(html, 'html.parser')\r\n",
    "    \r\n",
    "    try:\r\n",
    "        img_url_rel = img_soup.find(\"img\", class_=\"fancybox-image\").get('src')\r\n",
    "    \r\n",
    "    except AttributeError:\r\n",
    "        return None, None\r\n",
    "\r\n",
    "        img_url = f\"https://spaceimages.com/(img_url_rel)\"\r\n",
    "\r\n",
    "\r\n",
    "    return img_url"
   ],
   "outputs": [],
   "metadata": {}
  },
  {
   "cell_type": "code",
   "execution_count": 9,
   "source": [
    "def mars_facts():\r\n",
    "    df=pd.read_html('https://galaxyfacts-mars.com'[0])\r\n",
    "    \r\n",
    "    df.colums = [\"Description\", \"Mars\", \"Earth\"]\r\n",
    "    df.set_index(\"Description\", inplace=True)\r\n",
    "    \r\n",
    "    return df.to_html(classes= \"table table-stipped\")\r\n",
    "\r\n",
    "def hemispheres(browser):\r\n",
    "    url = \"https://marshemispheres.com/\""
   ],
   "outputs": [],
   "metadata": {}
  },
  {
   "cell_type": "code",
   "execution_count": null,
   "source": [
    "def scrape_hemispere(html_text):\r\n",
    "    main_astrogeo_url = \"https://marshemispheres.com/\"\r\n",
    "    hems_url = astrogeo_soup.find_all(\"div\", class_= \"item\")\r\n",
    "\r\n",
    "    hemis_url[]\r\n",
    "\r\n",
    "    for hem in hems_url:\r\n",
    "        hem_url = hem.find('a')['href']\r\n",
    "        hemis_url.append(hem_url)"
   ],
   "outputs": [],
   "metadata": {}
  },
  {
   "cell_type": "code",
   "execution_count": null,
   "source": [
    "hemisphere_image_urls = []\r\n",
    "for hemi in hemis_url:\r\n",
    "    hem_astrogeo_url = main_astrgeo_url + hemi\r\n",
    "    print(hem_astro_url)"
   ],
   "outputs": [],
   "metadata": {}
  },
  {
   "cell_type": "code",
   "execution_count": null,
   "source": [
    "browser.visit(hem_astrogeo_url)\r\n",
    "html = browser.html"
   ],
   "outputs": [],
   "metadata": {}
  },
  {
   "cell_type": "code",
   "execution_count": null,
   "source": [
    "hemi_soup = soup(html, \"html.parser\")\r\n",
    "raw_title = hemi_soup.find(\"h2\", class_=title).text\r\n",
    "title = raw_title.split(\"Enhanced\")[0]"
   ],
   "outputs": [],
   "metadata": {}
  },
  {
   "cell_type": "code",
   "execution_count": null,
   "source": [
    "img_url = hemi_soup.find(\"li\").a[\"hef\"]\r\n",
    "hemisphere_image_urls.append({'title': title, \"img_url\": img_url})\r\n",
    "print(hemisphere_image_urls)"
   ],
   "outputs": [],
   "metadata": {}
  },
  {
   "cell_type": "code",
   "execution_count": null,
   "source": [
    "mars_data = {}\r\n",
    "mars_data['news_title'] = news_title\r\n",
    "mars_data['news_paragraph'] = news_paragraph\r\n",
    "mars_data['featured_image_url'] = featured_image_url\r\n",
    "mars_data[\"mars_weather\"]= mars_weather\r\n",
    "mars_data ['hemisphere_image_urls'] = hemisphere_image_urls\r\n",
    "\r\n",
    "print(\"Scrape Complete!!\")\r\n",
    "\r\n",
    "return mars_data"
   ],
   "outputs": [],
   "metadata": {}
  },
  {
   "cell_type": "code",
   "execution_count": null,
   "source": [
    "if __name__ == \"__main__\":\r\n",
    "    print(scrape_all())\r\n",
    "    "
   ],
   "outputs": [],
   "metadata": {}
  },
  {
   "cell_type": "code",
   "execution_count": null,
   "source": [],
   "outputs": [],
   "metadata": {}
  }
 ],
 "metadata": {
  "kernelspec": {
   "display_name": "Python 3",
   "language": "python",
   "name": "python3"
  },
  "language_info": {
   "codemirror_mode": {
    "name": "ipython",
    "version": 3
   },
   "file_extension": ".py",
   "mimetype": "text/x-python",
   "name": "python",
   "nbconvert_exporter": "python",
   "pygments_lexer": "ipython3",
   "version": "3.6.10"
  }
 },
 "nbformat": 4,
 "nbformat_minor": 4
}